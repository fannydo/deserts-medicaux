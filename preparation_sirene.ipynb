{
 "cells": [
  {
   "cell_type": "markdown",
   "metadata": {},
   "source": [
    "## Traitement de la base sirene"
   ]
  },
  {
   "cell_type": "code",
   "execution_count": 90,
   "metadata": {},
   "outputs": [],
   "source": [
    "import os \n",
    "\n",
    "import pandas as pd"
   ]
  },
  {
   "cell_type": "code",
   "execution_count": 91,
   "metadata": {},
   "outputs": [],
   "source": [
    "# Déclaration des constantes\n",
    "DATA_DIR = '../deserts-medicaux/data/external/'\n",
    "ENTITIES_FILENAME = 'StockUniteLegale_utf8.zip'\n",
    "ETAB_FILENAME = 'StockEtablissement_utf8.zip'\n",
    "\n",
    "ACTIVITY_CODE = \"86.\""
   ]
  },
  {
   "cell_type": "markdown",
   "metadata": {},
   "source": [
    "## Préparation des entités "
   ]
  },
  {
   "cell_type": "code",
   "execution_count": 92,
   "metadata": {},
   "outputs": [
    {
     "data": {
      "text/html": [
       "<div>\n",
       "<style scoped>\n",
       "    .dataframe tbody tr th:only-of-type {\n",
       "        vertical-align: middle;\n",
       "    }\n",
       "\n",
       "    .dataframe tbody tr th {\n",
       "        vertical-align: top;\n",
       "    }\n",
       "\n",
       "    .dataframe thead th {\n",
       "        text-align: right;\n",
       "    }\n",
       "</style>\n",
       "<table border=\"1\" class=\"dataframe\">\n",
       "  <thead>\n",
       "    <tr style=\"text-align: right;\">\n",
       "      <th></th>\n",
       "      <th>siren</th>\n",
       "      <th>statutdiffusionunitelegale</th>\n",
       "      <th>unitepurgeeunitelegale</th>\n",
       "      <th>datecreationunitelegale</th>\n",
       "      <th>sigleunitelegale</th>\n",
       "      <th>sexeunitelegale</th>\n",
       "      <th>prenom1unitelegale</th>\n",
       "      <th>prenom2unitelegale</th>\n",
       "      <th>prenom3unitelegale</th>\n",
       "      <th>prenom4unitelegale</th>\n",
       "      <th>...</th>\n",
       "      <th>denominationunitelegale</th>\n",
       "      <th>denominationusuelle1unitelegale</th>\n",
       "      <th>denominationusuelle2unitelegale</th>\n",
       "      <th>denominationusuelle3unitelegale</th>\n",
       "      <th>categoriejuridiqueunitelegale</th>\n",
       "      <th>activiteprincipaleunitelegale</th>\n",
       "      <th>nomenclatureactiviteprincipaleunitelegale</th>\n",
       "      <th>nicsiegeunitelegale</th>\n",
       "      <th>economiesocialesolidaireunitelegale</th>\n",
       "      <th>caractereemployeurunitelegale</th>\n",
       "    </tr>\n",
       "  </thead>\n",
       "  <tbody>\n",
       "    <tr>\n",
       "      <th>0</th>\n",
       "      <td>325175</td>\n",
       "      <td>O</td>\n",
       "      <td>NaN</td>\n",
       "      <td>2000-09-26</td>\n",
       "      <td>NaN</td>\n",
       "      <td>M</td>\n",
       "      <td>THIERRY</td>\n",
       "      <td>NaN</td>\n",
       "      <td>NaN</td>\n",
       "      <td>NaN</td>\n",
       "      <td>...</td>\n",
       "      <td>NaN</td>\n",
       "      <td>NaN</td>\n",
       "      <td>NaN</td>\n",
       "      <td>NaN</td>\n",
       "      <td>1000</td>\n",
       "      <td>32.12Z</td>\n",
       "      <td>NAFRev2</td>\n",
       "      <td>65</td>\n",
       "      <td>NaN</td>\n",
       "      <td>N</td>\n",
       "    </tr>\n",
       "    <tr>\n",
       "      <th>1</th>\n",
       "      <td>1807254</td>\n",
       "      <td>O</td>\n",
       "      <td>NaN</td>\n",
       "      <td>1972-05-01</td>\n",
       "      <td>NaN</td>\n",
       "      <td>M</td>\n",
       "      <td>JACQUES-LUCIEN</td>\n",
       "      <td>NaN</td>\n",
       "      <td>NaN</td>\n",
       "      <td>NaN</td>\n",
       "      <td>...</td>\n",
       "      <td>NaN</td>\n",
       "      <td>NaN</td>\n",
       "      <td>NaN</td>\n",
       "      <td>NaN</td>\n",
       "      <td>1000</td>\n",
       "      <td>85.59A</td>\n",
       "      <td>NAFRev2</td>\n",
       "      <td>22</td>\n",
       "      <td>NaN</td>\n",
       "      <td>N</td>\n",
       "    </tr>\n",
       "    <tr>\n",
       "      <th>2</th>\n",
       "      <td>5410220</td>\n",
       "      <td>O</td>\n",
       "      <td>True</td>\n",
       "      <td>1954-12-25</td>\n",
       "      <td>NaN</td>\n",
       "      <td>M</td>\n",
       "      <td>GEORGES</td>\n",
       "      <td>NaN</td>\n",
       "      <td>NaN</td>\n",
       "      <td>NaN</td>\n",
       "      <td>...</td>\n",
       "      <td>NaN</td>\n",
       "      <td>NaN</td>\n",
       "      <td>NaN</td>\n",
       "      <td>NaN</td>\n",
       "      <td>1000</td>\n",
       "      <td>22.02</td>\n",
       "      <td>NAP</td>\n",
       "      <td>15</td>\n",
       "      <td>NaN</td>\n",
       "      <td>N</td>\n",
       "    </tr>\n",
       "    <tr>\n",
       "      <th>3</th>\n",
       "      <td>5410345</td>\n",
       "      <td>O</td>\n",
       "      <td>True</td>\n",
       "      <td>NaN</td>\n",
       "      <td>NaN</td>\n",
       "      <td>M</td>\n",
       "      <td>MICHEL</td>\n",
       "      <td>NaN</td>\n",
       "      <td>NaN</td>\n",
       "      <td>NaN</td>\n",
       "      <td>...</td>\n",
       "      <td>NaN</td>\n",
       "      <td>NaN</td>\n",
       "      <td>NaN</td>\n",
       "      <td>NaN</td>\n",
       "      <td>1000</td>\n",
       "      <td>79.06</td>\n",
       "      <td>NAP</td>\n",
       "      <td>10</td>\n",
       "      <td>NaN</td>\n",
       "      <td>N</td>\n",
       "    </tr>\n",
       "    <tr>\n",
       "      <th>4</th>\n",
       "      <td>5410394</td>\n",
       "      <td>O</td>\n",
       "      <td>True</td>\n",
       "      <td>1954-12-25</td>\n",
       "      <td>NaN</td>\n",
       "      <td>M</td>\n",
       "      <td>ROBERT</td>\n",
       "      <td>ALFRED</td>\n",
       "      <td>NaN</td>\n",
       "      <td>NaN</td>\n",
       "      <td>...</td>\n",
       "      <td>NaN</td>\n",
       "      <td>NaN</td>\n",
       "      <td>NaN</td>\n",
       "      <td>NaN</td>\n",
       "      <td>1000</td>\n",
       "      <td>64.42</td>\n",
       "      <td>NAP</td>\n",
       "      <td>18</td>\n",
       "      <td>NaN</td>\n",
       "      <td>N</td>\n",
       "    </tr>\n",
       "  </tbody>\n",
       "</table>\n",
       "<p>5 rows × 33 columns</p>\n",
       "</div>"
      ],
      "text/plain": [
       "     siren statutdiffusionunitelegale unitepurgeeunitelegale  \\\n",
       "0   325175                          O                    NaN   \n",
       "1  1807254                          O                    NaN   \n",
       "2  5410220                          O                   True   \n",
       "3  5410345                          O                   True   \n",
       "4  5410394                          O                   True   \n",
       "\n",
       "  datecreationunitelegale sigleunitelegale sexeunitelegale prenom1unitelegale  \\\n",
       "0              2000-09-26              NaN               M            THIERRY   \n",
       "1              1972-05-01              NaN               M     JACQUES-LUCIEN   \n",
       "2              1954-12-25              NaN               M            GEORGES   \n",
       "3                     NaN              NaN               M             MICHEL   \n",
       "4              1954-12-25              NaN               M             ROBERT   \n",
       "\n",
       "  prenom2unitelegale prenom3unitelegale prenom4unitelegale  \\\n",
       "0                NaN                NaN                NaN   \n",
       "1                NaN                NaN                NaN   \n",
       "2                NaN                NaN                NaN   \n",
       "3                NaN                NaN                NaN   \n",
       "4             ALFRED                NaN                NaN   \n",
       "\n",
       "               ...              denominationunitelegale  \\\n",
       "0              ...                                  NaN   \n",
       "1              ...                                  NaN   \n",
       "2              ...                                  NaN   \n",
       "3              ...                                  NaN   \n",
       "4              ...                                  NaN   \n",
       "\n",
       "   denominationusuelle1unitelegale  denominationusuelle2unitelegale  \\\n",
       "0                              NaN                              NaN   \n",
       "1                              NaN                              NaN   \n",
       "2                              NaN                              NaN   \n",
       "3                              NaN                              NaN   \n",
       "4                              NaN                              NaN   \n",
       "\n",
       "  denominationusuelle3unitelegale  categoriejuridiqueunitelegale  \\\n",
       "0                             NaN                           1000   \n",
       "1                             NaN                           1000   \n",
       "2                             NaN                           1000   \n",
       "3                             NaN                           1000   \n",
       "4                             NaN                           1000   \n",
       "\n",
       "  activiteprincipaleunitelegale  nomenclatureactiviteprincipaleunitelegale  \\\n",
       "0                        32.12Z                                    NAFRev2   \n",
       "1                        85.59A                                    NAFRev2   \n",
       "2                         22.02                                        NAP   \n",
       "3                         79.06                                        NAP   \n",
       "4                         64.42                                        NAP   \n",
       "\n",
       "  nicsiegeunitelegale  economiesocialesolidaireunitelegale  \\\n",
       "0                  65                                  NaN   \n",
       "1                  22                                  NaN   \n",
       "2                  15                                  NaN   \n",
       "3                  10                                  NaN   \n",
       "4                  18                                  NaN   \n",
       "\n",
       "  caractereemployeurunitelegale  \n",
       "0                             N  \n",
       "1                             N  \n",
       "2                             N  \n",
       "3                             N  \n",
       "4                             N  \n",
       "\n",
       "[5 rows x 33 columns]"
      ]
     },
     "execution_count": 92,
     "metadata": {},
     "output_type": "execute_result"
    }
   ],
   "source": [
    "pd.read_csv(os.path.join(DATA_DIR, ENTITIES_FILENAME), #Concaténation du répertoire et du nom de fichier\n",
    "            compression='zip',\n",
    "            nrows=1000 #limite à 1000 lignes la lecture\n",
    "           ).head()"
   ]
  },
  {
   "cell_type": "code",
   "execution_count": 93,
   "metadata": {},
   "outputs": [
    {
     "data": {
      "text/plain": [
       "Index(['siren', 'statutdiffusionunitelegale', 'unitepurgeeunitelegale',\n",
       "       'datecreationunitelegale', 'sigleunitelegale', 'sexeunitelegale',\n",
       "       'prenom1unitelegale', 'prenom2unitelegale', 'prenom3unitelegale',\n",
       "       'prenom4unitelegale', 'prenomusuelunitelegale', 'pseudonymeunitelegale',\n",
       "       'identifiantassociationunitelegale', 'trancheeffectifsunitelegale',\n",
       "       'anneeeffectifsunitelegale', 'datederniertraitementunitelegale',\n",
       "       'nombreperiodesunitelegale', 'categorieentreprise',\n",
       "       'anneecategorieentreprise', 'datedebut', 'etatadministratifunitelegale',\n",
       "       'nomunitelegale', 'nomusageunitelegale', 'denominationunitelegale',\n",
       "       'denominationusuelle1unitelegale', 'denominationusuelle2unitelegale',\n",
       "       'denominationusuelle3unitelegale', 'categoriejuridiqueunitelegale',\n",
       "       'activiteprincipaleunitelegale',\n",
       "       'nomenclatureactiviteprincipaleunitelegale', 'nicsiegeunitelegale',\n",
       "       'economiesocialesolidaireunitelegale', 'caractereemployeurunitelegale'],\n",
       "      dtype='object')"
      ]
     },
     "execution_count": 93,
     "metadata": {},
     "output_type": "execute_result"
    }
   ],
   "source": [
    "pd.read_csv(os.path.join(DATA_DIR, ENTITIES_FILENAME), #Concaténation du répertoire et du nom de fichier\n",
    "            compression='zip',\n",
    "            nrows=1000 #limite à 1000 lignes la lecture\n",
    "           ).columns"
   ]
  },
  {
   "cell_type": "code",
   "execution_count": 96,
   "metadata": {
    "scrolled": true
   },
   "outputs": [
    {
     "name": "stderr",
     "output_type": "stream",
     "text": [
      "/anaconda3/lib/python3.6/site-packages/IPython/core/interactiveshell.py:2785: DtypeWarning: Columns (21) have mixed types. Specify dtype option on import or set low_memory=False.\n",
      "  interactivity=interactivity, compiler=compiler, result=result)\n"
     ]
    }
   ],
   "source": [
    "# Les activités qui nous interessent sont les 86.\n",
    "\n",
    "entities_df = (pd.read_csv(os.path.join(DATA_DIR, ENTITIES_FILENAME), #Concaténation du répertoire et du nom de fichier\n",
    "                           usecols=['siren','activiteprincipaleunitelegale','datecreationunitelegale',\n",
    "                                    'denominationunitelegale','nomunitelegale','etatadministratifunitelegale'],\n",
    "                           compression='zip',\n",
    "                           #nrows=100000 #limite à 1000 lignes la lecture\n",
    "                          )\n",
    "              ).dropna(subset=['activiteprincipaleunitelegale']).query('etatadministratifunitelegale == \"A\"')\n",
    "\n",
    "# Filtrage des professionnels de santé\n",
    "#entities_df = entities_df[entities_df.activiteprincipaleunitelegale.str.startswith(ACTIVITY_CODE)] # 86."
   ]
  },
  {
   "cell_type": "code",
   "execution_count": 97,
   "metadata": {},
   "outputs": [
    {
     "data": {
      "text/plain": [
       "(11696143, 6)"
      ]
     },
     "execution_count": 97,
     "metadata": {},
     "output_type": "execute_result"
    }
   ],
   "source": [
    "entities_df.shape"
   ]
  },
  {
   "cell_type": "code",
   "execution_count": 98,
   "metadata": {},
   "outputs": [
    {
     "data": {
      "text/plain": [
       "4403344"
      ]
     },
     "execution_count": 98,
     "metadata": {},
     "output_type": "execute_result"
    }
   ],
   "source": [
    "entities_df.denominationunitelegale.isnull().sum()"
   ]
  },
  {
   "cell_type": "code",
   "execution_count": 99,
   "metadata": {},
   "outputs": [
    {
     "data": {
      "text/plain": [
       "7292817"
      ]
     },
     "execution_count": 99,
     "metadata": {},
     "output_type": "execute_result"
    }
   ],
   "source": [
    "entities_df.nomunitelegale.isnull().sum()"
   ]
  },
  {
   "cell_type": "code",
   "execution_count": 100,
   "metadata": {},
   "outputs": [
    {
     "data": {
      "text/plain": [
       "False"
      ]
     },
     "execution_count": 100,
     "metadata": {},
     "output_type": "execute_result"
    }
   ],
   "source": [
    "entities_df.denominationunitelegale.isnull().sum() + entities_df.nomunitelegale.isnull().sum() == entities_df.shape[0]"
   ]
  },
  {
   "cell_type": "markdown",
   "metadata": {},
   "source": [
    "## Preparation des établissements"
   ]
  },
  {
   "cell_type": "code",
   "execution_count": 64,
   "metadata": {},
   "outputs": [
    {
     "data": {
      "text/html": [
       "<div>\n",
       "<style scoped>\n",
       "    .dataframe tbody tr th:only-of-type {\n",
       "        vertical-align: middle;\n",
       "    }\n",
       "\n",
       "    .dataframe tbody tr th {\n",
       "        vertical-align: top;\n",
       "    }\n",
       "\n",
       "    .dataframe thead th {\n",
       "        text-align: right;\n",
       "    }\n",
       "</style>\n",
       "<table border=\"1\" class=\"dataframe\">\n",
       "  <thead>\n",
       "    <tr style=\"text-align: right;\">\n",
       "      <th></th>\n",
       "      <th>siren</th>\n",
       "      <th>nic</th>\n",
       "      <th>siret</th>\n",
       "      <th>statutdiffusionetablissement</th>\n",
       "      <th>datecreationetablissement</th>\n",
       "      <th>trancheeffectifsetablissement</th>\n",
       "      <th>anneeeffectifsetablissement</th>\n",
       "      <th>activiteprincipaleregistremetiersetablissement</th>\n",
       "      <th>datederniertraitementetablissement</th>\n",
       "      <th>etablissementsiege</th>\n",
       "      <th>...</th>\n",
       "      <th>libellepaysetranger2etablissement</th>\n",
       "      <th>datedebut</th>\n",
       "      <th>etatadministratifetablissement</th>\n",
       "      <th>enseigne1etablissement</th>\n",
       "      <th>enseigne2etablissement</th>\n",
       "      <th>enseigne3etablissement</th>\n",
       "      <th>denominationusuelleetablissement</th>\n",
       "      <th>activiteprincipaleetablissement</th>\n",
       "      <th>nomenclatureactiviteprincipaleetablissement</th>\n",
       "      <th>caractereemployeuretablissement</th>\n",
       "    </tr>\n",
       "  </thead>\n",
       "  <tbody>\n",
       "    <tr>\n",
       "      <th>0</th>\n",
       "      <td>325175</td>\n",
       "      <td>16</td>\n",
       "      <td>32517500016</td>\n",
       "      <td>O</td>\n",
       "      <td>2000-09-26</td>\n",
       "      <td>NaN</td>\n",
       "      <td>NaN</td>\n",
       "      <td>3212ZZ</td>\n",
       "      <td>2015-03-18T00:58:59</td>\n",
       "      <td>False</td>\n",
       "      <td>...</td>\n",
       "      <td>NaN</td>\n",
       "      <td>2009-05-27</td>\n",
       "      <td>F</td>\n",
       "      <td>NaN</td>\n",
       "      <td>NaN</td>\n",
       "      <td>NaN</td>\n",
       "      <td>NaN</td>\n",
       "      <td>32.12Z</td>\n",
       "      <td>NAFRev2</td>\n",
       "      <td>N</td>\n",
       "    </tr>\n",
       "    <tr>\n",
       "      <th>1</th>\n",
       "      <td>325175</td>\n",
       "      <td>24</td>\n",
       "      <td>32517500024</td>\n",
       "      <td>O</td>\n",
       "      <td>2008-05-20</td>\n",
       "      <td>NaN</td>\n",
       "      <td>NaN</td>\n",
       "      <td>NaN</td>\n",
       "      <td>2011-12-12T09:40:04</td>\n",
       "      <td>False</td>\n",
       "      <td>...</td>\n",
       "      <td>NaN</td>\n",
       "      <td>2011-10-21</td>\n",
       "      <td>F</td>\n",
       "      <td>TAHITI PERLES CREATIONS</td>\n",
       "      <td>NaN</td>\n",
       "      <td>NaN</td>\n",
       "      <td>NaN</td>\n",
       "      <td>47.89Z</td>\n",
       "      <td>NAFRev2</td>\n",
       "      <td>N</td>\n",
       "    </tr>\n",
       "    <tr>\n",
       "      <th>2</th>\n",
       "      <td>325175</td>\n",
       "      <td>32</td>\n",
       "      <td>32517500032</td>\n",
       "      <td>O</td>\n",
       "      <td>2009-05-27</td>\n",
       "      <td>NaN</td>\n",
       "      <td>NaN</td>\n",
       "      <td>NaN</td>\n",
       "      <td>2014-07-08T00:10:21</td>\n",
       "      <td>False</td>\n",
       "      <td>...</td>\n",
       "      <td>NaN</td>\n",
       "      <td>2011-10-21</td>\n",
       "      <td>F</td>\n",
       "      <td>TAHITI PERLES CREATIONS</td>\n",
       "      <td>NaN</td>\n",
       "      <td>NaN</td>\n",
       "      <td>NaN</td>\n",
       "      <td>32.12Z</td>\n",
       "      <td>NAFRev2</td>\n",
       "      <td>N</td>\n",
       "    </tr>\n",
       "    <tr>\n",
       "      <th>3</th>\n",
       "      <td>325175</td>\n",
       "      <td>40</td>\n",
       "      <td>32517500040</td>\n",
       "      <td>O</td>\n",
       "      <td>2011-10-21</td>\n",
       "      <td>NaN</td>\n",
       "      <td>NaN</td>\n",
       "      <td>3212ZZ</td>\n",
       "      <td>2015-03-18T00:58:59</td>\n",
       "      <td>False</td>\n",
       "      <td>...</td>\n",
       "      <td>NaN</td>\n",
       "      <td>2014-01-07</td>\n",
       "      <td>F</td>\n",
       "      <td>TAHITI PERLES CREATION</td>\n",
       "      <td>NaN</td>\n",
       "      <td>NaN</td>\n",
       "      <td>NaN</td>\n",
       "      <td>32.12Z</td>\n",
       "      <td>NAFRev2</td>\n",
       "      <td>N</td>\n",
       "    </tr>\n",
       "    <tr>\n",
       "      <th>4</th>\n",
       "      <td>325175</td>\n",
       "      <td>57</td>\n",
       "      <td>32517500057</td>\n",
       "      <td>O</td>\n",
       "      <td>2014-01-07</td>\n",
       "      <td>NaN</td>\n",
       "      <td>NaN</td>\n",
       "      <td>NaN</td>\n",
       "      <td>2018-07-10T14:17:15</td>\n",
       "      <td>False</td>\n",
       "      <td>...</td>\n",
       "      <td>NaN</td>\n",
       "      <td>2018-02-07</td>\n",
       "      <td>F</td>\n",
       "      <td>TAHITI PERLES CREATION</td>\n",
       "      <td>NaN</td>\n",
       "      <td>NaN</td>\n",
       "      <td>NaN</td>\n",
       "      <td>32.12Z</td>\n",
       "      <td>NAFRev2</td>\n",
       "      <td>N</td>\n",
       "    </tr>\n",
       "  </tbody>\n",
       "</table>\n",
       "<p>5 rows × 48 columns</p>\n",
       "</div>"
      ],
      "text/plain": [
       "    siren  nic        siret statutdiffusionetablissement  \\\n",
       "0  325175   16  32517500016                            O   \n",
       "1  325175   24  32517500024                            O   \n",
       "2  325175   32  32517500032                            O   \n",
       "3  325175   40  32517500040                            O   \n",
       "4  325175   57  32517500057                            O   \n",
       "\n",
       "  datecreationetablissement trancheeffectifsetablissement  \\\n",
       "0                2000-09-26                           NaN   \n",
       "1                2008-05-20                           NaN   \n",
       "2                2009-05-27                           NaN   \n",
       "3                2011-10-21                           NaN   \n",
       "4                2014-01-07                           NaN   \n",
       "\n",
       "   anneeeffectifsetablissement activiteprincipaleregistremetiersetablissement  \\\n",
       "0                          NaN                                         3212ZZ   \n",
       "1                          NaN                                            NaN   \n",
       "2                          NaN                                            NaN   \n",
       "3                          NaN                                         3212ZZ   \n",
       "4                          NaN                                            NaN   \n",
       "\n",
       "  datederniertraitementetablissement  etablissementsiege  \\\n",
       "0                2015-03-18T00:58:59               False   \n",
       "1                2011-12-12T09:40:04               False   \n",
       "2                2014-07-08T00:10:21               False   \n",
       "3                2015-03-18T00:58:59               False   \n",
       "4                2018-07-10T14:17:15               False   \n",
       "\n",
       "                ...                libellepaysetranger2etablissement  \\\n",
       "0               ...                                              NaN   \n",
       "1               ...                                              NaN   \n",
       "2               ...                                              NaN   \n",
       "3               ...                                              NaN   \n",
       "4               ...                                              NaN   \n",
       "\n",
       "    datedebut  etatadministratifetablissement   enseigne1etablissement  \\\n",
       "0  2009-05-27                               F                      NaN   \n",
       "1  2011-10-21                               F  TAHITI PERLES CREATIONS   \n",
       "2  2011-10-21                               F  TAHITI PERLES CREATIONS   \n",
       "3  2014-01-07                               F   TAHITI PERLES CREATION   \n",
       "4  2018-02-07                               F   TAHITI PERLES CREATION   \n",
       "\n",
       "  enseigne2etablissement enseigne3etablissement  \\\n",
       "0                    NaN                    NaN   \n",
       "1                    NaN                    NaN   \n",
       "2                    NaN                    NaN   \n",
       "3                    NaN                    NaN   \n",
       "4                    NaN                    NaN   \n",
       "\n",
       "   denominationusuelleetablissement activiteprincipaleetablissement  \\\n",
       "0                               NaN                          32.12Z   \n",
       "1                               NaN                          47.89Z   \n",
       "2                               NaN                          32.12Z   \n",
       "3                               NaN                          32.12Z   \n",
       "4                               NaN                          32.12Z   \n",
       "\n",
       "   nomenclatureactiviteprincipaleetablissement caractereemployeuretablissement  \n",
       "0                                      NAFRev2                               N  \n",
       "1                                      NAFRev2                               N  \n",
       "2                                      NAFRev2                               N  \n",
       "3                                      NAFRev2                               N  \n",
       "4                                      NAFRev2                               N  \n",
       "\n",
       "[5 rows x 48 columns]"
      ]
     },
     "execution_count": 64,
     "metadata": {},
     "output_type": "execute_result"
    }
   ],
   "source": [
    "pd.read_csv(os.path.join(DATA_DIR, ETAB_FILENAME), #Concaténation du répertoire et du nom de fichier\n",
    "            compression='zip',\n",
    "            nrows=1000 #limite à 1000 lignes la lecture\n",
    "           ).head()"
   ]
  },
  {
   "cell_type": "code",
   "execution_count": 66,
   "metadata": {},
   "outputs": [
    {
     "data": {
      "text/plain": [
       "Index(['siren', 'nic', 'siret', 'statutdiffusionetablissement',\n",
       "       'datecreationetablissement', 'trancheeffectifsetablissement',\n",
       "       'anneeeffectifsetablissement',\n",
       "       'activiteprincipaleregistremetiersetablissement',\n",
       "       'datederniertraitementetablissement', 'etablissementsiege',\n",
       "       'nombreperiodesetablissement', 'complementadresseetablissement',\n",
       "       'numerovoieetablissement', 'indicerepetitionetablissement',\n",
       "       'typevoieetablissement', 'libellevoieetablissement',\n",
       "       'codepostaletablissement', 'libellecommuneetablissement',\n",
       "       'libellecommuneetrangeretablissement',\n",
       "       'distributionspecialeetablissement', 'codecommuneetablissement',\n",
       "       'codecedexetablissement', 'libellecedexetablissement',\n",
       "       'codepaysetrangeretablissement', 'libellepaysetrangeretablissement',\n",
       "       'complementadresse2etablissement', 'numerovoie2etablissement',\n",
       "       'indicerepetition2etablissement', 'typevoie2etablissement',\n",
       "       'libellevoie2etablissement', 'codepostal2etablissement',\n",
       "       'libellecommune2etablissement', 'libellecommuneetranger2etablissement',\n",
       "       'distributionspeciale2etablissement', 'codecommune2etablissement',\n",
       "       'codecedex2etablissement', 'libellecedex2etablissement',\n",
       "       'codepaysetranger2etablissement', 'libellepaysetranger2etablissement',\n",
       "       'datedebut', 'etatadministratifetablissement', 'enseigne1etablissement',\n",
       "       'enseigne2etablissement', 'enseigne3etablissement',\n",
       "       'denominationusuelleetablissement', 'activiteprincipaleetablissement',\n",
       "       'nomenclatureactiviteprincipaleetablissement',\n",
       "       'caractereemployeuretablissement'],\n",
       "      dtype='object')"
      ]
     },
     "execution_count": 66,
     "metadata": {},
     "output_type": "execute_result"
    }
   ],
   "source": [
    "pd.read_csv(os.path.join(DATA_DIR, ETAB_FILENAME), #Concaténation du répertoire et du nom de fichier\n",
    "            compression='zip',\n",
    "            nrows=1000 #limite à 1000 lignes la lecture\n",
    "           ).columns"
   ]
  },
  {
   "cell_type": "code",
   "execution_count": 101,
   "metadata": {
    "scrolled": true
   },
   "outputs": [
    {
     "name": "stderr",
     "output_type": "stream",
     "text": [
      "/anaconda3/lib/python3.6/site-packages/IPython/core/interactiveshell.py:2785: DtypeWarning: Columns (20,44) have mixed types. Specify dtype option on import or set low_memory=False.\n",
      "  interactivity=interactivity, compiler=compiler, result=result)\n"
     ]
    }
   ],
   "source": [
    "etab_df = (pd.read_csv(os.path.join(DATA_DIR, ETAB_FILENAME), #Concaténation du répertoire et du nom de fichier\n",
    "                       usecols=['siren','activiteprincipaleetablissement','datecreationetablissement',\n",
    "                                'denominationusuelleetablissement','etatadministratifetablissement',\n",
    "                                'codepostaletablissement','codecommuneetablissement','libellecommuneetablissement'],\n",
    "                       compression='zip',\n",
    "                       #nrows=100000 #limite à 1000 lignes la lecture\n",
    "                      )\n",
    "          ).dropna(subset=['activiteprincipaleetablissement']).query('etatadministratifetablissement == \"A\"')\n",
    "\n",
    "# Filtrage des professionnels de santé\n",
    "#etab_df = etab_df[etab_df.activiteprincipaleetablissement.str.startswith(ACTIVITY_CODE)] # 86."
   ]
  },
  {
   "cell_type": "code",
   "execution_count": 102,
   "metadata": {},
   "outputs": [
    {
     "data": {
      "text/plain": [
       "(11233968, 8)"
      ]
     },
     "execution_count": 102,
     "metadata": {},
     "output_type": "execute_result"
    }
   ],
   "source": [
    "etab_df.shape"
   ]
  },
  {
   "cell_type": "code",
   "execution_count": 103,
   "metadata": {},
   "outputs": [
    {
     "data": {
      "text/plain": [
       "siren                             int64\n",
       "datecreationunitelegale          object\n",
       "etatadministratifunitelegale     object\n",
       "nomunitelegale                   object\n",
       "denominationunitelegale          object\n",
       "activiteprincipaleunitelegale    object\n",
       "dtype: object"
      ]
     },
     "execution_count": 103,
     "metadata": {},
     "output_type": "execute_result"
    }
   ],
   "source": [
    "entities_df.dtypes"
   ]
  },
  {
   "cell_type": "code",
   "execution_count": 104,
   "metadata": {},
   "outputs": [
    {
     "data": {
      "text/plain": [
       "siren                                 int64\n",
       "datecreationetablissement            object\n",
       "codepostaletablissement             float64\n",
       "libellecommuneetablissement          object\n",
       "codecommuneetablissement             object\n",
       "etatadministratifetablissement       object\n",
       "denominationusuelleetablissement     object\n",
       "activiteprincipaleetablissement      object\n",
       "dtype: object"
      ]
     },
     "execution_count": 104,
     "metadata": {},
     "output_type": "execute_result"
    }
   ],
   "source": [
    "etab_df.dtypes"
   ]
  },
  {
   "cell_type": "code",
   "execution_count": 105,
   "metadata": {},
   "outputs": [],
   "source": [
    "process_df = etab_df.merge(entities_df, on='siren', how='left')"
   ]
  },
  {
   "cell_type": "code",
   "execution_count": 106,
   "metadata": {},
   "outputs": [
    {
     "data": {
      "text/plain": [
       "(11233968, 13)"
      ]
     },
     "execution_count": 106,
     "metadata": {},
     "output_type": "execute_result"
    }
   ],
   "source": [
    "process_df.shape"
   ]
  },
  {
   "cell_type": "code",
   "execution_count": 107,
   "metadata": {},
   "outputs": [
    {
     "data": {
      "text/plain": [
       "(11233968, 8)"
      ]
     },
     "execution_count": 107,
     "metadata": {},
     "output_type": "execute_result"
    }
   ],
   "source": [
    "etab_df.shape"
   ]
  },
  {
   "cell_type": "code",
   "execution_count": 108,
   "metadata": {},
   "outputs": [
    {
     "data": {
      "text/plain": [
       "(23, 13)"
      ]
     },
     "execution_count": 108,
     "metadata": {},
     "output_type": "execute_result"
    }
   ],
   "source": [
    "# Etablissement qui n'ont pas d'entité légale\n",
    "process_df[process_df.activiteprincipaleunitelegale.isnull()].shape"
   ]
  },
  {
   "cell_type": "code",
   "execution_count": null,
   "metadata": {},
   "outputs": [],
   "source": [
    "etab_df.merge(entities_df, on='siren', how='outer', indicator=True)['_merge'].value_counts()\n",
    "# 8994 entités qui n'ont pas d'établissements"
   ]
  },
  {
   "cell_type": "code",
   "execution_count": null,
   "metadata": {},
   "outputs": [],
   "source": []
  }
 ],
 "metadata": {
  "kernelspec": {
   "display_name": "Python 3",
   "language": "python",
   "name": "python3"
  },
  "language_info": {
   "codemirror_mode": {
    "name": "ipython",
    "version": 3
   },
   "file_extension": ".py",
   "mimetype": "text/x-python",
   "name": "python",
   "nbconvert_exporter": "python",
   "pygments_lexer": "ipython3",
   "version": "3.6.5"
  }
 },
 "nbformat": 4,
 "nbformat_minor": 2
}
